{
 "cells": [
  {
   "cell_type": "code",
   "execution_count": null,
   "id": "b93f8dff",
   "metadata": {},
   "outputs": [],
   "source": [
    "import pandas as pd\n",
    "import numpy as np\n",
    "import matplotlib.pyplot as plt\n",
    "import seaborn as sns\n",
    "import warnings\n",
    "warnings.filterwarnings('ignore')"
   ]
  },
  {
   "cell_type": "markdown",
   "id": "449695e3",
   "metadata": {},
   "source": [
    "Installing new library"
   ]
  },
  {
   "cell_type": "code",
   "execution_count": null,
   "id": "c73dc698",
   "metadata": {},
   "outputs": [],
   "source": [
    "!pip install xgboost "
   ]
  },
  {
   "cell_type": "code",
   "execution_count": null,
   "id": "d947f552",
   "metadata": {},
   "outputs": [],
   "source": [
    "from sklearn.preprocessing import LabelEncoder\n",
    "from sklearn.model_selection import train_test_split\n",
    "from xgboost import XGBRegressor\n",
    "from sklearn import metrics"
   ]
  },
  {
   "cell_type": "code",
   "execution_count": null,
   "id": "63e6634f",
   "metadata": {},
   "outputs": [],
   "source": [
    "data=pd.read_csv(\"big_mart_train.csv\")   #loading the file to pandas dataframe\n",
    "data"
   ]
  },
  {
   "cell_type": "code",
   "execution_count": null,
   "id": "960f00d3",
   "metadata": {},
   "outputs": [],
   "source": [
    "data.head(5)"
   ]
  },
  {
   "cell_type": "markdown",
   "id": "9ad44dee",
   "metadata": {},
   "source": [
    "# About the Columns:"
   ]
  },
  {
   "cell_type": "markdown",
   "id": "2ab94956",
   "metadata": {},
   "source": [
    "1. Item Identifier : It identifies the type of items for eg. FDA15 stands for any food item , NCD19 stands for any non-consumable item."
   ]
  },
  {
   "cell_type": "markdown",
   "id": "6d452e81",
   "metadata": {},
   "source": [
    "2. Item_Weight : This column tells us about the weight of teh item."
   ]
  },
  {
   "cell_type": "markdown",
   "id": "48f627e5",
   "metadata": {},
   "source": [
    "3. Item_Fat_content : Tells us about the fat content in that particular item."
   ]
  },
  {
   "cell_type": "markdown",
   "id": "a5a53b14",
   "metadata": {},
   "source": [
    "4. Item_Visibility : tells us how much people are buying that product."
   ]
  },
  {
   "cell_type": "markdown",
   "id": "aae135aa",
   "metadata": {},
   "source": [
    "5. Item_Type : represents the type of item more specifically eg, in eatables which kind soft drinks or meat "
   ]
  },
  {
   "cell_type": "markdown",
   "id": "2c72534e",
   "metadata": {},
   "source": [
    "6. Item_MRP : tells us the price of the item in terms of USD."
   ]
  },
  {
   "cell_type": "markdown",
   "id": "800544f6",
   "metadata": {},
   "source": [
    "7. Outlet_Identifier : represents different stores for the items."
   ]
  },
  {
   "cell_type": "markdown",
   "id": "50fbe58b",
   "metadata": {},
   "source": [
    "8. Outlet_Establishment_year: tells us the year in which a particular outlet or store started."
   ]
  },
  {
   "cell_type": "markdown",
   "id": "13e00f11",
   "metadata": {},
   "source": [
    "9. Outlet_size : represents the size of the store eg, high, medium or low."
   ]
  },
  {
   "cell_type": "markdown",
   "id": "baa415b4",
   "metadata": {},
   "source": [
    "10. Outlet_location_type : tells us whether the outlet is located in a very populated region i.e,Tier 1  or least famous region i.e. Tier 3 "
   ]
  },
  {
   "cell_type": "markdown",
   "id": "93e54767",
   "metadata": {},
   "source": [
    "11. Outlet_Type: tells us whether the oulet is supermarket type or a small grocery store. "
   ]
  },
  {
   "cell_type": "markdown",
   "id": "97b59c22",
   "metadata": {},
   "source": [
    "12. Item_Outlet_sales : tells us what is the particular sales value of an item in that outlet."
   ]
  },
  {
   "cell_type": "code",
   "execution_count": null,
   "id": "844b2adc",
   "metadata": {},
   "outputs": [],
   "source": [
    "data.shape"
   ]
  },
  {
   "cell_type": "markdown",
   "id": "8b681cce",
   "metadata": {},
   "source": [
    "Getting some information about the dataset"
   ]
  },
  {
   "cell_type": "code",
   "execution_count": null,
   "id": "f9e9857e",
   "metadata": {},
   "outputs": [],
   "source": [
    "data.info()"
   ]
  },
  {
   "cell_type": "markdown",
   "id": "d9e7001e",
   "metadata": {},
   "source": [
    "Categorical features:"
   ]
  },
  {
   "cell_type": "markdown",
   "id": "d43a5cbf",
   "metadata": {},
   "source": [
    " 1. Item_Identifier\n",
    " 2. Item_Fat_Content\n",
    " 3. Item_Type\n",
    " 4. Outlet_Identifier\n",
    " 5. Outlet_Size                \n",
    " 6. Outlet_Location_Type       \n",
    " 7. Outlet_Type \n",
    " "
   ]
  },
  {
   "cell_type": "markdown",
   "id": "42f7e20a",
   "metadata": {},
   "source": [
    "Checking for missing values :"
   ]
  },
  {
   "cell_type": "code",
   "execution_count": null,
   "id": "ce7ab3c7",
   "metadata": {},
   "outputs": [],
   "source": [
    "data.isnull().sum()"
   ]
  },
  {
   "cell_type": "markdown",
   "id": "92dc8677",
   "metadata": {},
   "source": [
    "Handling missing values :"
   ]
  },
  {
   "cell_type": "markdown",
   "id": "a212d02e",
   "metadata": {},
   "source": [
    "One of the columns with missing values is Categorical that is ,Outlet_Size, we cannot take out its mean , let's handle it with mode then , and for Item_Weight colum, we will handle the missing values by finding the mean since it is having numerical values."
   ]
  },
  {
   "cell_type": "code",
   "execution_count": null,
   "id": "00647b6e",
   "metadata": {},
   "outputs": [],
   "source": [
    "#finding mean of Item_Weight column.\n",
    "data[\"Item_Weight\"].mean()"
   ]
  },
  {
   "cell_type": "code",
   "execution_count": null,
   "id": "950ee743",
   "metadata": {},
   "outputs": [],
   "source": [
    "#replacing the missing values of column Item_Weight with mean of that column.\n",
    "data[\"Item_Weight\"].fillna(data[\"Item_Weight\"].mean(), inplace=True)"
   ]
  },
  {
   "cell_type": "code",
   "execution_count": null,
   "id": "03adaccb",
   "metadata": {},
   "outputs": [],
   "source": [
    "data.isnull().sum()"
   ]
  },
  {
   "cell_type": "markdown",
   "id": "8f98379a",
   "metadata": {},
   "source": [
    "Now , let's replace null values of categorical column Outlet_Size with mode."
   ]
  },
  {
   "cell_type": "code",
   "execution_count": null,
   "id": "c270998f",
   "metadata": {},
   "outputs": [],
   "source": [
    "mode_of_outlet_size=data.pivot_table(values=\"Outlet_Size\", columns= \"Outlet_Type\", aggfunc=(lambda x:x.mode()[0]))\n",
    "print(mode_of_outlet_size)"
   ]
  },
  {
   "cell_type": "markdown",
   "id": "6adc8bf0",
   "metadata": {},
   "source": [
    "So , above table is created with two rows Outlet_size and type , just to refer we have taken a column which is more correlated with Outlet_Size....lambda is used same as def function which can be used multiple times but lambda is used in one place only."
   ]
  },
  {
   "cell_type": "code",
   "execution_count": null,
   "id": "3dbe9c74",
   "metadata": {},
   "outputs": [],
   "source": [
    "missing_values=data[\"Outlet_Size\"].isnull()\n",
    "print(missing_values)                #false means it is not null , that is value is present."
   ]
  },
  {
   "cell_type": "markdown",
   "id": "cab14900",
   "metadata": {},
   "source": [
    "Now, we will give another code to convert these missing values into mode. we will use lambda function again but a new one this one as one time only it can be used."
   ]
  },
  {
   "cell_type": "code",
   "execution_count": null,
   "id": "28fc11c8",
   "metadata": {},
   "outputs": [],
   "source": [
    "data.loc[missing_values,\"Outlet_Size\"]=data.loc[missing_values, \"Outlet_Type\"].apply(lambda x:mode_of_outlet_size)"
   ]
  },
  {
   "cell_type": "code",
   "execution_count": null,
   "id": "4ac1dc70",
   "metadata": {},
   "outputs": [],
   "source": [
    "data.isnull().sum()"
   ]
  },
  {
   "cell_type": "markdown",
   "id": "1fe1a17a",
   "metadata": {},
   "source": [
    "As, we can see above the missing values have been removed now with mean and mode respectively."
   ]
  },
  {
   "cell_type": "markdown",
   "id": "155b4277",
   "metadata": {},
   "source": [
    "Data Analysis :"
   ]
  },
  {
   "cell_type": "code",
   "execution_count": null,
   "id": "057cda13",
   "metadata": {},
   "outputs": [],
   "source": [
    "data.describe()"
   ]
  },
  {
   "cell_type": "markdown",
   "id": "6c2d3268",
   "metadata": {},
   "source": [
    "Checking Distribution of values :"
   ]
  },
  {
   "cell_type": "code",
   "execution_count": null,
   "id": "67fbb51e",
   "metadata": {},
   "outputs": [],
   "source": [
    "sns.distplot(data[\"Item_Weight\"])"
   ]
  },
  {
   "cell_type": "code",
   "execution_count": null,
   "id": "394b223d",
   "metadata": {},
   "outputs": [],
   "source": [
    "sns.distplot(data[\"Item_Visibility\"])"
   ]
  },
  {
   "cell_type": "code",
   "execution_count": null,
   "id": "b0039729",
   "metadata": {},
   "outputs": [],
   "source": [
    "sns.distplot(data[\"Item_MRP\"])"
   ]
  },
  {
   "cell_type": "code",
   "execution_count": null,
   "id": "dfe383b0",
   "metadata": {},
   "outputs": [],
   "source": [
    "sns.distplot(data[\"Item_Outlet_Sales\"])"
   ]
  },
  {
   "cell_type": "code",
   "execution_count": null,
   "id": "e7f2487a",
   "metadata": {},
   "outputs": [],
   "source": [
    "sns.countplot(data['Outlet_Establishment_Year'])"
   ]
  },
  {
   "cell_type": "markdown",
   "id": "e4d04e1f",
   "metadata": {},
   "source": [
    "Analyzing the categorical values :"
   ]
  },
  {
   "cell_type": "code",
   "execution_count": null,
   "id": "0604d62b",
   "metadata": {},
   "outputs": [],
   "source": [
    "sns.countplot(data['Item_Fat_Content'])"
   ]
  },
  {
   "cell_type": "markdown",
   "id": "dd7e2d47",
   "metadata": {},
   "source": [
    "Since, low fat ,LF are same as \"Low Fat\", and reg represents \"Regular\", we can combine them and clean data"
   ]
  },
  {
   "cell_type": "code",
   "execution_count": null,
   "id": "2b318558",
   "metadata": {},
   "outputs": [],
   "source": [
    "sns.countplot(data['Item_Type'])"
   ]
  },
  {
   "cell_type": "code",
   "execution_count": null,
   "id": "edc151d5",
   "metadata": {},
   "outputs": [],
   "source": [
    "#Since it is too conjusted, let's give figsize.\n",
    "plt.figure(figsize=(30,6))\n",
    "sns.countplot(x=\"Item_Type\", data=data)\n",
    "plt.title(\"Item_type\")\n",
    "plt.show()"
   ]
  },
  {
   "cell_type": "code",
   "execution_count": null,
   "id": "3c33428e",
   "metadata": {},
   "outputs": [],
   "source": []
  },
  {
   "cell_type": "code",
   "execution_count": null,
   "id": "14eb885c",
   "metadata": {},
   "outputs": [],
   "source": [
    "sns.countplot(data['Outlet_Location_Type'])"
   ]
  },
  {
   "cell_type": "code",
   "execution_count": null,
   "id": "684edff7",
   "metadata": {},
   "outputs": [],
   "source": [
    "sns.countplot(data['Outlet_Type'])"
   ]
  },
  {
   "cell_type": "markdown",
   "id": "b163ffab",
   "metadata": {},
   "source": [
    "Data Pre-processing :"
   ]
  },
  {
   "cell_type": "code",
   "execution_count": null,
   "id": "8fb35f35",
   "metadata": {},
   "outputs": [],
   "source": [
    "data.head()"
   ]
  },
  {
   "cell_type": "markdown",
   "id": "0d319f5a",
   "metadata": {},
   "source": [
    "low fat ,LF are same as \"Low Fat\", and reg represents \"Regular\", we can combine them and clean data"
   ]
  },
  {
   "cell_type": "code",
   "execution_count": null,
   "id": "a9f003cd",
   "metadata": {},
   "outputs": [],
   "source": [
    "data[\"Item_Fat_Content\"].value_counts()"
   ]
  },
  {
   "cell_type": "code",
   "execution_count": null,
   "id": "701bdbbe",
   "metadata": {},
   "outputs": [],
   "source": [
    "#Now replacing\n",
    "data.replace({\"Item_Fat_Content\" : {\"low fat\" : 'Low Fat', \"LF\": 'Low Fat','reg':'Regular'}} , inplace=True)"
   ]
  },
  {
   "cell_type": "code",
   "execution_count": null,
   "id": "89abdc30",
   "metadata": {},
   "outputs": [],
   "source": [
    "data[\"Item_Fat_Content\"].value_counts()"
   ]
  },
  {
   "cell_type": "code",
   "execution_count": null,
   "id": "ecc3bc54",
   "metadata": {},
   "outputs": [],
   "source": [
    "#Encoding all the categorical values into numerical values using Label Encoder\n",
    "encode=LabelEncoder()"
   ]
  },
  {
   "cell_type": "code",
   "execution_count": null,
   "id": "e6522f2e",
   "metadata": {},
   "outputs": [],
   "source": [
    "data[\"Item_Identifier\"]=encode.fit_transform(data[\"Item_Identifier\"])\n",
    "data[\"Item_Fat_Content\"]=encode.fit_transform(data[\"Item_Fat_Content\"])\n",
    "data[\"Item_Type\"]=encode.fit_transform(data[\"Item_Type\"])\n",
    "data[\"Outlet_Identifier\"]=encode.fit_transform(data[\"Outlet_Identifier\"])\n",
    "data[\"Outlet_Size\"]=encode.fit_transform(data[\"Outlet_Size\"])\n",
    "data[\"Outlet_Location_Type\"]=encode.fit_transform(data[\"Outlet_Location_Type\"])\n",
    "data[\"Outlet_Type\"]=encode.fit_transform(data[\"Outlet_Type\"])"
   ]
  },
  {
   "cell_type": "code",
   "execution_count": null,
   "id": "573abc00",
   "metadata": {},
   "outputs": [],
   "source": [
    "data.head()"
   ]
  },
  {
   "cell_type": "markdown",
   "id": "21bd9599",
   "metadata": {},
   "source": [
    "Splitting features and target : "
   ]
  },
  {
   "cell_type": "code",
   "execution_count": null,
   "id": "a79c4612",
   "metadata": {},
   "outputs": [],
   "source": [
    "x=data.drop(columns=\"Item_Outlet_Sales\",axis=1)  #axis=1 is used to drop column and axis=0 is used to drop rows"
   ]
  },
  {
   "cell_type": "code",
   "execution_count": null,
   "id": "2c248a6d",
   "metadata": {},
   "outputs": [],
   "source": [
    "y= data[\"Item_Outlet_Sales\"]"
   ]
  },
  {
   "cell_type": "code",
   "execution_count": null,
   "id": "f7ff91b7",
   "metadata": {},
   "outputs": [],
   "source": [
    "x"
   ]
  },
  {
   "cell_type": "code",
   "execution_count": null,
   "id": "d86a43b3",
   "metadata": {},
   "outputs": [],
   "source": [
    "y"
   ]
  },
  {
   "cell_type": "markdown",
   "id": "4a590fc3",
   "metadata": {},
   "source": [
    "Training and Testing:"
   ]
  },
  {
   "cell_type": "code",
   "execution_count": null,
   "id": "df44623c",
   "metadata": {},
   "outputs": [],
   "source": [
    "x_train,x_test,y_train,y_test = train_test_split(x,y,test_size=0.2,random_state=2)"
   ]
  },
  {
   "cell_type": "code",
   "execution_count": null,
   "id": "92ef9468",
   "metadata": {},
   "outputs": [],
   "source": [
    "x_train.shape"
   ]
  },
  {
   "cell_type": "code",
   "execution_count": null,
   "id": "139efad4",
   "metadata": {},
   "outputs": [],
   "source": [
    "y_train.shape"
   ]
  },
  {
   "cell_type": "code",
   "execution_count": null,
   "id": "11430aee",
   "metadata": {},
   "outputs": [],
   "source": [
    "x_test.shape"
   ]
  },
  {
   "cell_type": "code",
   "execution_count": null,
   "id": "f358d71b",
   "metadata": {},
   "outputs": [],
   "source": [
    "y_test.shape"
   ]
  },
  {
   "cell_type": "markdown",
   "id": "37b1d45c",
   "metadata": {},
   "source": [
    "Machine Learning Model Learning using XGBRegressor :"
   ]
  },
  {
   "cell_type": "code",
   "execution_count": null,
   "id": "6e26aa65",
   "metadata": {},
   "outputs": [],
   "source": [
    "regressor=XGBRegressor()"
   ]
  },
  {
   "cell_type": "code",
   "execution_count": null,
   "id": "cbcf8af0",
   "metadata": {},
   "outputs": [],
   "source": [
    "regressor.fit(x_train,y_train)"
   ]
  },
  {
   "cell_type": "markdown",
   "id": "318cf888",
   "metadata": {},
   "source": [
    "Evaluation :"
   ]
  },
  {
   "cell_type": "code",
   "execution_count": null,
   "id": "d4271592",
   "metadata": {},
   "outputs": [],
   "source": [
    "training_data_prediction=regressor.predict(x_train)"
   ]
  },
  {
   "cell_type": "markdown",
   "id": "891112a9",
   "metadata": {},
   "source": [
    "Calculating R2 score :"
   ]
  },
  {
   "cell_type": "code",
   "execution_count": null,
   "id": "24a5b4e4",
   "metadata": {},
   "outputs": [],
   "source": [
    "r2_train=metrics.r2_score(y_train,training_data_prediction )"
   ]
  },
  {
   "cell_type": "code",
   "execution_count": null,
   "id": "fb051920",
   "metadata": {},
   "outputs": [],
   "source": [
    "r2_train"
   ]
  },
  {
   "cell_type": "code",
   "execution_count": null,
   "id": "fad9e986",
   "metadata": {},
   "outputs": [],
   "source": [
    "testing_data_prediction=regressor.predict(x_test)"
   ]
  },
  {
   "cell_type": "code",
   "execution_count": null,
   "id": "33671832",
   "metadata": {},
   "outputs": [],
   "source": [
    "r2_test=metrics.r2_score(y_test,testing_data_prediction)"
   ]
  },
  {
   "cell_type": "code",
   "execution_count": null,
   "id": "c4bb0bcd",
   "metadata": {},
   "outputs": [],
   "source": [
    "r2_test"
   ]
  },
  {
   "cell_type": "code",
   "execution_count": null,
   "id": "67cd46b4",
   "metadata": {},
   "outputs": [],
   "source": []
  }
 ],
 "metadata": {
  "kernelspec": {
   "display_name": "Python 3",
   "language": "python",
   "name": "python3"
  },
  "language_info": {
   "codemirror_mode": {
    "name": "ipython",
    "version": 3
   },
   "file_extension": ".py",
   "mimetype": "text/x-python",
   "name": "python",
   "nbconvert_exporter": "python",
   "pygments_lexer": "ipython3",
   "version": "3.8.8"
  }
 },
 "nbformat": 4,
 "nbformat_minor": 5
}
