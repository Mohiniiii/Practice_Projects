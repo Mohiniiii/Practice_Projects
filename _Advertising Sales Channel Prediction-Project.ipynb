{
 "cells": [
  {
   "cell_type": "code",
   "execution_count": 1,
   "id": "a4640c8d",
   "metadata": {},
   "outputs": [],
   "source": [
    "#importing python libraries\n",
    "import pandas as pd\n",
    "import numpy as np\n",
    "import matplotlib.pyplot as plt\n",
    "import seaborn as sns\n",
    "import warnings\n",
    "warnings.filterwarnings('ignore')"
   ]
  },
  {
   "cell_type": "code",
   "execution_count": 2,
   "id": "15f4078d",
   "metadata": {},
   "outputs": [],
   "source": [
    "from sklearn.preprocessing import LabelEncoder\n",
    "from sklearn.preprocessing import StandardScaler\n",
    "from sklearn.model_selection import cross_val_score\n",
    "from sklearn.model_selection import KFold"
   ]
  },
  {
   "cell_type": "code",
   "execution_count": 3,
   "id": "02023537",
   "metadata": {},
   "outputs": [
    {
     "data": {
      "text/html": [
       "<div>\n",
       "<style scoped>\n",
       "    .dataframe tbody tr th:only-of-type {\n",
       "        vertical-align: middle;\n",
       "    }\n",
       "\n",
       "    .dataframe tbody tr th {\n",
       "        vertical-align: top;\n",
       "    }\n",
       "\n",
       "    .dataframe thead th {\n",
       "        text-align: right;\n",
       "    }\n",
       "</style>\n",
       "<table border=\"1\" class=\"dataframe\">\n",
       "  <thead>\n",
       "    <tr style=\"text-align: right;\">\n",
       "      <th></th>\n",
       "      <th>Unnamed: 0</th>\n",
       "      <th>TV</th>\n",
       "      <th>radio</th>\n",
       "      <th>newspaper</th>\n",
       "      <th>sales</th>\n",
       "    </tr>\n",
       "  </thead>\n",
       "  <tbody>\n",
       "    <tr>\n",
       "      <th>0</th>\n",
       "      <td>1</td>\n",
       "      <td>230.1</td>\n",
       "      <td>37.8</td>\n",
       "      <td>69.2</td>\n",
       "      <td>22.1</td>\n",
       "    </tr>\n",
       "    <tr>\n",
       "      <th>1</th>\n",
       "      <td>2</td>\n",
       "      <td>44.5</td>\n",
       "      <td>39.3</td>\n",
       "      <td>45.1</td>\n",
       "      <td>10.4</td>\n",
       "    </tr>\n",
       "    <tr>\n",
       "      <th>2</th>\n",
       "      <td>3</td>\n",
       "      <td>17.2</td>\n",
       "      <td>45.9</td>\n",
       "      <td>69.3</td>\n",
       "      <td>9.3</td>\n",
       "    </tr>\n",
       "    <tr>\n",
       "      <th>3</th>\n",
       "      <td>4</td>\n",
       "      <td>151.5</td>\n",
       "      <td>41.3</td>\n",
       "      <td>58.5</td>\n",
       "      <td>18.5</td>\n",
       "    </tr>\n",
       "    <tr>\n",
       "      <th>4</th>\n",
       "      <td>5</td>\n",
       "      <td>180.8</td>\n",
       "      <td>10.8</td>\n",
       "      <td>58.4</td>\n",
       "      <td>12.9</td>\n",
       "    </tr>\n",
       "    <tr>\n",
       "      <th>...</th>\n",
       "      <td>...</td>\n",
       "      <td>...</td>\n",
       "      <td>...</td>\n",
       "      <td>...</td>\n",
       "      <td>...</td>\n",
       "    </tr>\n",
       "    <tr>\n",
       "      <th>195</th>\n",
       "      <td>196</td>\n",
       "      <td>38.2</td>\n",
       "      <td>3.7</td>\n",
       "      <td>13.8</td>\n",
       "      <td>7.6</td>\n",
       "    </tr>\n",
       "    <tr>\n",
       "      <th>196</th>\n",
       "      <td>197</td>\n",
       "      <td>94.2</td>\n",
       "      <td>4.9</td>\n",
       "      <td>8.1</td>\n",
       "      <td>9.7</td>\n",
       "    </tr>\n",
       "    <tr>\n",
       "      <th>197</th>\n",
       "      <td>198</td>\n",
       "      <td>177.0</td>\n",
       "      <td>9.3</td>\n",
       "      <td>6.4</td>\n",
       "      <td>12.8</td>\n",
       "    </tr>\n",
       "    <tr>\n",
       "      <th>198</th>\n",
       "      <td>199</td>\n",
       "      <td>283.6</td>\n",
       "      <td>42.0</td>\n",
       "      <td>66.2</td>\n",
       "      <td>25.5</td>\n",
       "    </tr>\n",
       "    <tr>\n",
       "      <th>199</th>\n",
       "      <td>200</td>\n",
       "      <td>232.1</td>\n",
       "      <td>8.6</td>\n",
       "      <td>8.7</td>\n",
       "      <td>13.4</td>\n",
       "    </tr>\n",
       "  </tbody>\n",
       "</table>\n",
       "<p>200 rows × 5 columns</p>\n",
       "</div>"
      ],
      "text/plain": [
       "     Unnamed: 0     TV  radio  newspaper  sales\n",
       "0             1  230.1   37.8       69.2   22.1\n",
       "1             2   44.5   39.3       45.1   10.4\n",
       "2             3   17.2   45.9       69.3    9.3\n",
       "3             4  151.5   41.3       58.5   18.5\n",
       "4             5  180.8   10.8       58.4   12.9\n",
       "..          ...    ...    ...        ...    ...\n",
       "195         196   38.2    3.7       13.8    7.6\n",
       "196         197   94.2    4.9        8.1    9.7\n",
       "197         198  177.0    9.3        6.4   12.8\n",
       "198         199  283.6   42.0       66.2   25.5\n",
       "199         200  232.1    8.6        8.7   13.4\n",
       "\n",
       "[200 rows x 5 columns]"
      ]
     },
     "execution_count": 3,
     "metadata": {},
     "output_type": "execute_result"
    }
   ],
   "source": [
    "#displaying the dataset\n",
    "da=pd.read_csv(\"sales_channel.csv\")\n",
    "da"
   ]
  },
  {
   "cell_type": "code",
   "execution_count": 4,
   "id": "e3841c0d",
   "metadata": {},
   "outputs": [
    {
     "data": {
      "text/plain": [
       "(200, 5)"
      ]
     },
     "execution_count": 4,
     "metadata": {},
     "output_type": "execute_result"
    }
   ],
   "source": [
    "da.shape"
   ]
  },
  {
   "cell_type": "code",
   "execution_count": 5,
   "id": "e7d7c0c8",
   "metadata": {},
   "outputs": [
    {
     "data": {
      "text/plain": [
       "Index(['Unnamed: 0', 'TV', 'radio', 'newspaper', 'sales'], dtype='object')"
      ]
     },
     "execution_count": 5,
     "metadata": {},
     "output_type": "execute_result"
    }
   ],
   "source": [
    "da.columns"
   ]
  },
  {
   "cell_type": "markdown",
   "id": "d13ecac3",
   "metadata": {},
   "source": [
    "# About the columns:"
   ]
  },
  {
   "cell_type": "markdown",
   "id": "6b3e3753",
   "metadata": {},
   "source": [
    "1. TV : This column includes all the sales generated through TV as a medium."
   ]
  },
  {
   "cell_type": "markdown",
   "id": "52363d61",
   "metadata": {},
   "source": [
    "2. Radio : This column includes all the sales generated through Radio as a medium."
   ]
  },
  {
   "cell_type": "markdown",
   "id": "591d6f7e",
   "metadata": {},
   "source": [
    "3. Newspaper : this column includes all the sales generated through newspapers as medium"
   ]
  },
  {
   "cell_type": "markdown",
   "id": "ef8c880b",
   "metadata": {},
   "source": [
    "4. Sales : This column tells us about the total sales generated from all the sales channel."
   ]
  },
  {
   "cell_type": "code",
   "execution_count": 6,
   "id": "e7df8902",
   "metadata": {},
   "outputs": [
    {
     "data": {
      "text/plain": [
       "Unnamed: 0      int64\n",
       "TV            float64\n",
       "radio         float64\n",
       "newspaper     float64\n",
       "sales         float64\n",
       "dtype: object"
      ]
     },
     "execution_count": 6,
     "metadata": {},
     "output_type": "execute_result"
    }
   ],
   "source": [
    "da.dtypes"
   ]
  },
  {
   "cell_type": "markdown",
   "id": "42ef3bed",
   "metadata": {},
   "source": [
    "Describing the dataset:"
   ]
  },
  {
   "cell_type": "code",
   "execution_count": 7,
   "id": "80a159de",
   "metadata": {},
   "outputs": [
    {
     "name": "stdout",
     "output_type": "stream",
     "text": [
      "<class 'pandas.core.frame.DataFrame'>\n",
      "RangeIndex: 200 entries, 0 to 199\n",
      "Data columns (total 5 columns):\n",
      " #   Column      Non-Null Count  Dtype  \n",
      "---  ------      --------------  -----  \n",
      " 0   Unnamed: 0  200 non-null    int64  \n",
      " 1   TV          200 non-null    float64\n",
      " 2   radio       200 non-null    float64\n",
      " 3   newspaper   200 non-null    float64\n",
      " 4   sales       200 non-null    float64\n",
      "dtypes: float64(4), int64(1)\n",
      "memory usage: 7.9 KB\n"
     ]
    }
   ],
   "source": [
    "\n",
    "da.info()"
   ]
  },
  {
   "cell_type": "code",
   "execution_count": 8,
   "id": "829405ea",
   "metadata": {},
   "outputs": [
    {
     "data": {
      "text/html": [
       "<div>\n",
       "<style scoped>\n",
       "    .dataframe tbody tr th:only-of-type {\n",
       "        vertical-align: middle;\n",
       "    }\n",
       "\n",
       "    .dataframe tbody tr th {\n",
       "        vertical-align: top;\n",
       "    }\n",
       "\n",
       "    .dataframe thead th {\n",
       "        text-align: right;\n",
       "    }\n",
       "</style>\n",
       "<table border=\"1\" class=\"dataframe\">\n",
       "  <thead>\n",
       "    <tr style=\"text-align: right;\">\n",
       "      <th></th>\n",
       "      <th>Unnamed: 0</th>\n",
       "      <th>TV</th>\n",
       "      <th>radio</th>\n",
       "      <th>newspaper</th>\n",
       "      <th>sales</th>\n",
       "    </tr>\n",
       "  </thead>\n",
       "  <tbody>\n",
       "    <tr>\n",
       "      <th>count</th>\n",
       "      <td>200.000000</td>\n",
       "      <td>200.000000</td>\n",
       "      <td>200.000000</td>\n",
       "      <td>200.000000</td>\n",
       "      <td>200.000000</td>\n",
       "    </tr>\n",
       "    <tr>\n",
       "      <th>mean</th>\n",
       "      <td>100.500000</td>\n",
       "      <td>147.042500</td>\n",
       "      <td>23.264000</td>\n",
       "      <td>30.554000</td>\n",
       "      <td>14.022500</td>\n",
       "    </tr>\n",
       "    <tr>\n",
       "      <th>std</th>\n",
       "      <td>57.879185</td>\n",
       "      <td>85.854236</td>\n",
       "      <td>14.846809</td>\n",
       "      <td>21.778621</td>\n",
       "      <td>5.217457</td>\n",
       "    </tr>\n",
       "    <tr>\n",
       "      <th>min</th>\n",
       "      <td>1.000000</td>\n",
       "      <td>0.700000</td>\n",
       "      <td>0.000000</td>\n",
       "      <td>0.300000</td>\n",
       "      <td>1.600000</td>\n",
       "    </tr>\n",
       "    <tr>\n",
       "      <th>25%</th>\n",
       "      <td>50.750000</td>\n",
       "      <td>74.375000</td>\n",
       "      <td>9.975000</td>\n",
       "      <td>12.750000</td>\n",
       "      <td>10.375000</td>\n",
       "    </tr>\n",
       "    <tr>\n",
       "      <th>50%</th>\n",
       "      <td>100.500000</td>\n",
       "      <td>149.750000</td>\n",
       "      <td>22.900000</td>\n",
       "      <td>25.750000</td>\n",
       "      <td>12.900000</td>\n",
       "    </tr>\n",
       "    <tr>\n",
       "      <th>75%</th>\n",
       "      <td>150.250000</td>\n",
       "      <td>218.825000</td>\n",
       "      <td>36.525000</td>\n",
       "      <td>45.100000</td>\n",
       "      <td>17.400000</td>\n",
       "    </tr>\n",
       "    <tr>\n",
       "      <th>max</th>\n",
       "      <td>200.000000</td>\n",
       "      <td>296.400000</td>\n",
       "      <td>49.600000</td>\n",
       "      <td>114.000000</td>\n",
       "      <td>27.000000</td>\n",
       "    </tr>\n",
       "  </tbody>\n",
       "</table>\n",
       "</div>"
      ],
      "text/plain": [
       "       Unnamed: 0          TV       radio   newspaper       sales\n",
       "count  200.000000  200.000000  200.000000  200.000000  200.000000\n",
       "mean   100.500000  147.042500   23.264000   30.554000   14.022500\n",
       "std     57.879185   85.854236   14.846809   21.778621    5.217457\n",
       "min      1.000000    0.700000    0.000000    0.300000    1.600000\n",
       "25%     50.750000   74.375000    9.975000   12.750000   10.375000\n",
       "50%    100.500000  149.750000   22.900000   25.750000   12.900000\n",
       "75%    150.250000  218.825000   36.525000   45.100000   17.400000\n",
       "max    200.000000  296.400000   49.600000  114.000000   27.000000"
      ]
     },
     "execution_count": 8,
     "metadata": {},
     "output_type": "execute_result"
    }
   ],
   "source": [
    "da.describe()"
   ]
  },
  {
   "cell_type": "markdown",
   "id": "1575c91e",
   "metadata": {},
   "source": [
    "Data Cleaning and Outlier analysis :"
   ]
  },
  {
   "cell_type": "code",
   "execution_count": 9,
   "id": "d446c516",
   "metadata": {},
   "outputs": [
    {
     "data": {
      "text/plain": [
       "Unnamed: 0    0\n",
       "TV            0\n",
       "radio         0\n",
       "newspaper     0\n",
       "sales         0\n",
       "dtype: int64"
      ]
     },
     "execution_count": 9,
     "metadata": {},
     "output_type": "execute_result"
    }
   ],
   "source": [
    "da.isnull().sum()"
   ]
  },
  {
   "cell_type": "markdown",
   "id": "3695d355",
   "metadata": {},
   "source": [
    "There are no null values present in the dataset, which means the data is clean"
   ]
  },
  {
   "cell_type": "markdown",
   "id": "6a15fd2e",
   "metadata": {},
   "source": [
    "Outlier Analysis :"
   ]
  },
  {
   "cell_type": "code",
   "execution_count": 10,
   "id": "4b76c666",
   "metadata": {},
   "outputs": [
    {
     "data": {
      "text/plain": [
       "Unnamed: 0       AxesSubplot(0.125,0.536818;0.133621x0.343182)\n",
       "TV            AxesSubplot(0.285345,0.536818;0.133621x0.343182)\n",
       "radio          AxesSubplot(0.44569,0.536818;0.133621x0.343182)\n",
       "newspaper     AxesSubplot(0.606034,0.536818;0.133621x0.343182)\n",
       "sales         AxesSubplot(0.766379,0.536818;0.133621x0.343182)\n",
       "dtype: object"
      ]
     },
     "execution_count": 10,
     "metadata": {},
     "output_type": "execute_result"
    },
    {
     "data": {
      "image/png": "[encoded data removed]",
      "text/plain": [
       "<Figure size 432x288 with 10 Axes>"
      ]
     },
     "metadata": {
      "needs_background": "light"
     },
     "output_type": "display_data"
    }
   ],
   "source": [
    "da.plot(kind=\"box\", subplots=True, layout=(2,5))"
   ]
  },
  {
   "cell_type": "markdown",
   "id": "55b5740a",
   "metadata": {},
   "source": [
    "From the above, boxplots we can see that there are a few outliers present in the newspaper column."
   ]
  },
  {
   "cell_type": "markdown",
   "id": "d6713622",
   "metadata": {},
   "source": [
    "Univariate Analysis : "
   ]
  },
  {
   "cell_type": "code",
   "execution_count": 11,
   "id": "6e89bf74",
   "metadata": {},
   "outputs": [
    {
     "data": {
      "image/png": "[encoded data removed]",
      "text/plain": [
       "<Figure size 432x288 with 1 Axes>"
      ]
     },
     "metadata": {
      "needs_background": "light"
     },
     "output_type": "display_data"
    }
   ],
   "source": [
    "sns.boxplot(da['sales'])\n",
    "plt.show()"
   ]
  },
  {
   "cell_type": "markdown",
   "id": "a0fced68",
   "metadata": {},
   "source": [
    "Scatter Plot showing how target variable is Sales is related to other variables."
   ]
  },
  {
   "cell_type": "code",
   "execution_count": 12,
   "id": "67cdc465",
   "metadata": {},
   "outputs": [
    {
     "data": {
      "image/png": "[encoded data removed]",
      "text/plain": [
       "<Figure size 540x180 with 3 Axes>"
      ]
     },
     "metadata": {
      "needs_background": "light"
     },
     "output_type": "display_data"
    }
   ],
   "source": [
    "sns.pairplot(da, x_vars=['TV','newspaper','radio'],y_vars=['sales'],kind='scatter')\n",
    "plt.show()"
   ]
  },
  {
   "cell_type": "markdown",
   "id": "fd1e4e1e",
   "metadata": {},
   "source": [
    "From, the above scatterplot, it can be observed that Tv dataset seems to be more linear as compared to other variable dispersion of values. Let us observe now by correlation values by generating a heat map."
   ]
  },
  {
   "cell_type": "markdown",
   "id": "21844d47",
   "metadata": {},
   "source": [
    "Heatmap showing correlation between different variables:"
   ]
  },
  {
   "cell_type": "code",
   "execution_count": 13,
   "id": "b82da715",
   "metadata": {},
   "outputs": [
    {
     "data": {
      "image/png": "[encoded data removed]",
      "text/plain": [
       "<Figure size 432x288 with 2 Axes>"
      ]
     },
     "metadata": {
      "needs_background": "light"
     },
     "output_type": "display_data"
    }
   ],
   "source": [
    "sns.heatmap(da.corr(), cmap=\"BuGn\", annot=True)\n",
    "plt.show()"
   ]
  },
  {
   "cell_type": "markdown",
   "id": "d57cdc9d",
   "metadata": {},
   "source": [
    "As seen from the pairplot and the heatmap, the correlation factor for Tv variable is 0.78, higher than radio and newspaper, which means that it is highly correlated with sales. "
   ]
  },
  {
   "cell_type": "markdown",
   "id": "dad7a4c6",
   "metadata": {},
   "source": [
    "Building simple Linear Regression model :"
   ]
  },
  {
   "cell_type": "code",
   "execution_count": 14,
   "id": "0d14a47e",
   "metadata": {},
   "outputs": [],
   "source": [
    "from sklearn.linear_model import LinearRegression\n",
    "from sklearn.metrics import mean_squared_error,mean_absolute_error\n",
    "from sklearn.model_selection import train_test_split"
   ]
  },
  {
   "cell_type": "code",
   "execution_count": 15,
   "id": "875bd985",
   "metadata": {},
   "outputs": [
    {
     "data": {
      "text/html": [
       "<div>\n",
       "<style scoped>\n",
       "    .dataframe tbody tr th:only-of-type {\n",
       "        vertical-align: middle;\n",
       "    }\n",
       "\n",
       "    .dataframe tbody tr th {\n",
       "        vertical-align: top;\n",
       "    }\n",
       "\n",
       "    .dataframe thead th {\n",
       "        text-align: right;\n",
       "    }\n",
       "</style>\n",
       "<table border=\"1\" class=\"dataframe\">\n",
       "  <thead>\n",
       "    <tr style=\"text-align: right;\">\n",
       "      <th></th>\n",
       "      <th>Unnamed: 0</th>\n",
       "      <th>TV</th>\n",
       "      <th>radio</th>\n",
       "      <th>newspaper</th>\n",
       "    </tr>\n",
       "  </thead>\n",
       "  <tbody>\n",
       "    <tr>\n",
       "      <th>0</th>\n",
       "      <td>1</td>\n",
       "      <td>230.1</td>\n",
       "      <td>37.8</td>\n",
       "      <td>69.2</td>\n",
       "    </tr>\n",
       "    <tr>\n",
       "      <th>1</th>\n",
       "      <td>2</td>\n",
       "      <td>44.5</td>\n",
       "      <td>39.3</td>\n",
       "      <td>45.1</td>\n",
       "    </tr>\n",
       "    <tr>\n",
       "      <th>2</th>\n",
       "      <td>3</td>\n",
       "      <td>17.2</td>\n",
       "      <td>45.9</td>\n",
       "      <td>69.3</td>\n",
       "    </tr>\n",
       "    <tr>\n",
       "      <th>3</th>\n",
       "      <td>4</td>\n",
       "      <td>151.5</td>\n",
       "      <td>41.3</td>\n",
       "      <td>58.5</td>\n",
       "    </tr>\n",
       "    <tr>\n",
       "      <th>4</th>\n",
       "      <td>5</td>\n",
       "      <td>180.8</td>\n",
       "      <td>10.8</td>\n",
       "      <td>58.4</td>\n",
       "    </tr>\n",
       "  </tbody>\n",
       "</table>\n",
       "</div>"
      ],
      "text/plain": [
       "   Unnamed: 0     TV  radio  newspaper\n",
       "0           1  230.1   37.8       69.2\n",
       "1           2   44.5   39.3       45.1\n",
       "2           3   17.2   45.9       69.3\n",
       "3           4  151.5   41.3       58.5\n",
       "4           5  180.8   10.8       58.4"
      ]
     },
     "execution_count": 15,
     "metadata": {},
     "output_type": "execute_result"
    }
   ],
   "source": [
    "x=da.iloc[:,0:-1]   \n",
    "x.head()"
   ]
  },
  {
   "cell_type": "code",
   "execution_count": 16,
   "id": "7e1dbaf4",
   "metadata": {},
   "outputs": [
    {
     "data": {
      "text/plain": [
       "0    22.1\n",
       "1    10.4\n",
       "2     9.3\n",
       "3    18.5\n",
       "4    12.9\n",
       "Name: sales, dtype: float64"
      ]
     },
     "execution_count": 16,
     "metadata": {},
     "output_type": "execute_result"
    }
   ],
   "source": [
    "y=da.iloc[:,-1]   \n",
    "y.head()"
   ]
  },
  {
   "cell_type": "code",
   "execution_count": 17,
   "id": "1c2ffacb",
   "metadata": {},
   "outputs": [
    {
     "data": {
      "text/plain": [
       "(200, 4)"
      ]
     },
     "execution_count": 17,
     "metadata": {},
     "output_type": "execute_result"
    }
   ],
   "source": [
    "x.shape"
   ]
  },
  {
   "cell_type": "code",
   "execution_count": 18,
   "id": "91dbd2b7",
   "metadata": {},
   "outputs": [
    {
     "data": {
      "text/plain": [
       "(200,)"
      ]
     },
     "execution_count": 18,
     "metadata": {},
     "output_type": "execute_result"
    }
   ],
   "source": [
    "y.shape"
   ]
  },
  {
   "cell_type": "markdown",
   "id": "04179289",
   "metadata": {},
   "source": [
    "Applying Variance Inflation Factor :"
   ]
  },
  {
   "cell_type": "code",
   "execution_count": 19,
   "id": "39f5e30e",
   "metadata": {},
   "outputs": [],
   "source": [
    "from statsmodels.stats.outliers_influence import variance_inflation_factor"
   ]
  },
  {
   "cell_type": "code",
   "execution_count": 20,
   "id": "c51e366b",
   "metadata": {},
   "outputs": [],
   "source": [
    "def vif_calc():\n",
    "    vif=pd.DataFrame()\n",
    "    vif[\"VIF Factor\"]=[variance_inflation_factor(x.values,i) for i in range(x.shape[1])]\n",
    "    vif[\"Features\"]=x.columns\n",
    "    print (vif)"
   ]
  },
  {
   "cell_type": "code",
   "execution_count": 21,
   "id": "8bf2a943",
   "metadata": {},
   "outputs": [
    {
     "name": "stdout",
     "output_type": "stream",
     "text": [
      "   VIF Factor    Features\n",
      "0    2.609076  Unnamed: 0\n",
      "1    3.106114          TV\n",
      "2    3.450875       radio\n",
      "3    3.086776   newspaper\n"
     ]
    }
   ],
   "source": [
    "vif_calc()"
   ]
  },
  {
   "cell_type": "markdown",
   "id": "925beb47",
   "metadata": {},
   "source": [
    "VIF indicates that no column is that much away from the desired result and can be used in predicting the total sales."
   ]
  },
  {
   "cell_type": "code",
   "execution_count": 22,
   "id": "8b9c8c1e",
   "metadata": {},
   "outputs": [
    {
     "data": {
      "text/plain": [
       "array([[-1.72341210e+00,  9.69852266e-01,  9.81522472e-01,\n",
       "         1.77894547e+00],\n",
       "       [-1.70609137e+00, -1.19737623e+00,  1.08280781e+00,\n",
       "         6.69578760e-01],\n",
       "       [-1.68877065e+00, -1.51615499e+00,  1.52846331e+00,\n",
       "         1.78354865e+00],\n",
       "       [-1.67144992e+00,  5.20496822e-02,  1.21785493e+00,\n",
       "         1.28640506e+00],\n",
       "       [-1.65412920e+00,  3.94182198e-01, -8.41613655e-01,\n",
       "         1.28180188e+00],\n",
       "       [-1.63680847e+00, -1.61540845e+00,  1.73103399e+00,\n",
       "         2.04592999e+00],\n",
       "       [-1.61948775e+00, -1.04557682e+00,  6.43904671e-01,\n",
       "        -3.24708413e-01],\n",
       "       [-1.60216702e+00, -3.13436589e-01, -2.47406325e-01,\n",
       "        -8.72486994e-01],\n",
       "       [-1.58484630e+00, -1.61657614e+00, -1.42906863e+00,\n",
       "        -1.36042422e+00],\n",
       "       [-1.56752558e+00,  6.16042873e-01, -1.39530685e+00,\n",
       "        -4.30581584e-01],\n",
       "       [-1.55020485e+00, -9.45155670e-01, -1.17923146e+00,\n",
       "        -2.92486143e-01],\n",
       "       [-1.53288413e+00,  7.90028350e-01,  4.96973404e-02,\n",
       "        -1.22232878e+00],\n",
       "       [-1.51556340e+00, -1.43908760e+00,  7.99208859e-01,\n",
       "         1.62704048e+00],\n",
       "       [-1.49824268e+00, -5.78501712e-01, -1.05768905e+00,\n",
       "        -1.07502697e+00],\n",
       "       [-1.48092195e+00,  6.66253447e-01,  6.50657027e-01,\n",
       "         7.11007392e-01],\n",
       "       [-1.46360123e+00,  5.64664612e-01,  1.65000572e+00,\n",
       "         1.02862691e+00],\n",
       "       [-1.44628050e+00, -9.25304978e-01,  9.00494200e-01,\n",
       "         3.84117072e+00],\n",
       "       [-1.42895978e+00,  1.56887609e+00,  1.10306488e+00,\n",
       "         1.16211917e+00],\n",
       "       [-1.41163905e+00, -9.08957349e-01, -1.86635121e-01,\n",
       "        -5.64073843e-01],\n",
       "       [-1.39431833e+00,  3.00679600e-03,  4.29449843e-02,\n",
       "        -5.27248393e-01],\n",
       "       [-1.37699760e+00,  8.33232798e-01,  2.99534513e-01,\n",
       "         1.05164281e+00],\n",
       "       [-1.35967688e+00,  1.05509347e+00, -1.22649795e+00,\n",
       "        -3.24708413e-01],\n",
       "       [-1.34235616e+00, -1.56286250e+00, -4.97243498e-01,\n",
       "         8.76721921e-01],\n",
       "       [-1.32503543e+00,  9.48833887e-01, -4.29719938e-01,\n",
       "        -2.00422516e-01],\n",
       "       [-1.30771471e+00, -9.89527805e-01, -7.20071247e-01,\n",
       "        -5.64073843e-01],\n",
       "       [-1.29039398e+00,  1.35285385e+00, -1.33453565e+00,\n",
       "        -5.08835667e-01],\n",
       "       [-1.27307326e+00, -4.83714657e-02,  4.07572210e-01,\n",
       "        -8.26455181e-01],\n",
       "       [-1.25575253e+00,  1.08662104e+00, -4.43224650e-01,\n",
       "        -3.52327501e-01],\n",
       "       [-1.23843181e+00,  1.18820988e+00,  2.59020377e-01,\n",
       "        -3.52327501e-01],\n",
       "       [-1.22111108e+00, -8.92609721e-01, -4.90491142e-01,\n",
       "         4.71641962e-01],\n",
       "       [-1.20379036e+00,  1.70316018e+00,  3.40048650e-01,\n",
       "         5.82118314e-01],\n",
       "       [-1.18646963e+00, -3.98677796e-01, -3.95958157e-01,\n",
       "         3.70371972e-01],\n",
       "       [-1.16914891e+00, -5.82004775e-01, -1.46958277e+00,\n",
       "        -2.55016247e-02],\n",
       "       [-1.15182818e+00,  1.38438142e+00, -2.20396901e-01,\n",
       "        -1.39264649e+00],\n",
       "       [-1.13450746e+00, -5.99520091e-01, -1.47633512e+00,\n",
       "        -1.06582061e+00],\n",
       "       [-1.11718674e+00,  1.67747105e+00, -1.29402151e+00,\n",
       "        -1.01518562e+00],\n",
       "       [-1.09986601e+00,  1.39956136e+00,  1.38666383e+00,\n",
       "        -1.17629696e+00],\n",
       "       [-1.08254529e+00, -8.44734522e-01,  1.76479577e+00,\n",
       "         6.97197848e-01],\n",
       "       [-1.06522456e+00, -1.21372386e+00,  2.32010953e-01,\n",
       "         2.09260624e-01],\n",
       "       [-1.04790384e+00,  9.45330823e-01,  9.74770116e-01,\n",
       "         6.65620024e-02],\n",
       "       [-1.03058311e+00,  6.47570443e-01, -6.50927121e-02,\n",
       "         4.81492770e-02],\n",
       "       [-1.01326239e+00,  3.49810063e-01,  6.84418807e-01,\n",
       "         3.74975153e-01],\n",
       "       [-9.95941664e-01,  1.71133400e+00,  2.99534513e-01,\n",
       "        -1.32359877e+00],\n",
       "       [-9.78620939e-01,  6.98948705e-01, -1.00367020e+00,\n",
       "        -1.91216154e-01],\n",
       "       [-9.61300215e-01, -1.42390765e+00,  1.64487393e-01,\n",
       "         5.86721496e-01],\n",
       "       [-9.43979490e-01,  3.27623995e-01, -5.15880000e-02,\n",
       "         4.35460956e-02],\n",
       "       [-9.26658765e-01, -6.69581357e-01, -9.02384859e-01,\n",
       "         2.36879713e-01],\n",
       "       [-9.09338041e-01,  1.08428567e+00,  1.23135965e+00,\n",
       "        -5.54867481e-01],\n",
       "       [-8.92017316e-01,  9.35989321e-01, -5.03995854e-01,\n",
       "         8.90531465e-01],\n",
       "       [-8.74696592e-01, -9.35814168e-01, -7.80842451e-01,\n",
       "         2.87514708e-01],\n",
       "       [-8.57375867e-01,  6.16042873e-01, -1.36154507e+00,\n",
       "         1.86244718e-01],\n",
       "       [-8.40055142e-01, -5.44638766e-01, -9.22641928e-01,\n",
       "        -1.24074150e+00],\n",
       "       [-8.22734418e-01,  8.09879042e-01,  1.24486436e+00,\n",
       "         4.16403786e-01],\n",
       "       [-8.05413693e-01,  4.15200577e-01,  1.54872038e+00,\n",
       "         1.29561142e+00],\n",
       "       [-7.88092969e-01,  1.35051848e+00,  3.73810430e-01,\n",
       "        -6.74550196e-01],\n",
       "       [-7.70772244e-01,  6.05533683e-01,  1.76479577e+00,\n",
       "         1.35545278e+00],\n",
       "       [-7.53451519e-01, -1.63175608e+00,  3.26543937e-01,\n",
       "         4.99261050e-01],\n",
       "       [-7.36130795e-01, -1.26606546e-01, -2.74415749e-01,\n",
       "        -6.42327927e-01],\n",
       "       [-7.18810070e-01,  7.44488528e-01,  1.77830048e+00,\n",
       "         3.28943340e-01],\n",
       "       [-7.01489346e-01,  7.43320840e-01,  4.21076922e-01,\n",
       "        -9.78360166e-01],\n",
       "       [-6.84168621e-01, -1.09228433e+00, -1.43582099e+00,\n",
       "        -4.21375221e-01],\n",
       "       [-6.66847897e-01,  1.33417085e+00,  1.31238792e+00,\n",
       "         1.11148417e+00],\n",
       "       [-6.49527172e-01,  1.07727954e+00, -5.24252922e-01,\n",
       "        -1.49787521e-01],\n",
       "       [-6.32206447e-01, -5.17781948e-01,  4.27829278e-01,\n",
       "        -1.01978880e+00],\n",
       "       [-6.14885723e-01, -1.86158622e-01,  1.31914027e+00,\n",
       "        -7.61366196e-02],\n",
       "       [-5.97564998e-01, -9.11292725e-01, -9.42898996e-01,\n",
       "        -1.36502740e+00],\n",
       "       [-5.80244274e-01, -1.34917564e+00,  9.02114765e-02,\n",
       "        -1.30518604e+00],\n",
       "       [-5.62923549e-01, -9.04082253e-02, -5.91776482e-01,\n",
       "        -9.36931533e-01],\n",
       "       [-5.45602824e-01,  1.05509347e+00,  2.86029801e-01,\n",
       "        -9.00106083e-01],\n",
       "       [-5.28282100e-01,  8.14549794e-01,  1.39341619e+00,\n",
       "        -1.54390703e-01],\n",
       "       [-5.10961375e-01,  6.07869059e-01,  4.95352838e-01,\n",
       "         3.74975153e-01],\n",
       "       [-4.93640651e-01, -4.34876116e-01, -6.05281194e-01,\n",
       "         5.27524584e-02],\n",
       "       [-4.76319926e-01, -1.40405696e+00,  6.57409383e-01,\n",
       "        -5.18042030e-01],\n",
       "       [-4.58999202e-01, -2.06009314e-01, -1.18598381e+00,\n",
       "         3.43397329e-02],\n",
       "       [-4.41678477e-01,  7.74848409e-01,  9.02114765e-02,\n",
       "        -8.03439274e-01],\n",
       "       [-4.24357752e-01, -1.51965805e+00,  1.37991148e+00,\n",
       "         2.70878810e+00],\n",
       "       [-4.07037028e-01, -1.39588315e+00, -1.46283041e+00,\n",
       "        -4.53597491e-01],\n",
       "       [-3.89716303e-01, -3.09933525e-01,  3.53553362e-01,\n",
       "        -7.52804279e-01],\n",
       "       [-3.72395579e-01, -1.65394214e+00,  4.48086346e-01,\n",
       "        -9.73756984e-01],\n",
       "       [-3.55074854e-01, -3.62479475e-01, -1.05093669e+00,\n",
       "        -3.43121138e-01],\n",
       "       [-3.37754129e-01, -8.24883830e-01,  2.32010953e-01,\n",
       "        -3.79946589e-01],\n",
       "       [-3.20433405e-01,  1.08311798e+00, -1.29402151e+00,\n",
       "         2.92117889e-01],\n",
       "       [-3.03112680e-01, -8.37728396e-01, -2.00139833e-01,\n",
       "         8.95779092e-02],\n",
       "       [-2.85791956e-01, -9.18298852e-01,  1.43393033e+00,\n",
       "         2.32276531e-01],\n",
       "       [-2.68471231e-01,  7.76016097e-01,  1.33264499e+00,\n",
       "         1.49419267e-01],\n",
       "       [-2.51150506e-01,  5.38975481e-01, -3.28434597e-01,\n",
       "         1.61783412e+00],\n",
       "       [-2.33829782e-01, -8.26051518e-01,  2.86029801e-01,\n",
       "        -6.69947015e-01],\n",
       "       [-2.16509057e-01, -4.24366926e-01,  1.17058844e+00,\n",
       "         1.50275459e+00],\n",
       "       [-1.99188333e-01, -6.85928986e-01,  1.50982681e-01,\n",
       "         1.97227908e+00],\n",
       "       [-1.81867608e-01, -4.34876116e-01,  1.65675807e+00,\n",
       "         9.59579186e-01],\n",
       "       [-1.64546884e-01, -1.48792614e-01, -1.24000266e+00,\n",
       "        -9.78360166e-01],\n",
       "       [-1.47226159e-01, -1.38303858e+00, -1.46958277e+00,\n",
       "         1.12593816e-01],\n",
       "       [-1.29905434e-01,  8.25058983e-01,  6.91171163e-01,\n",
       "         1.30942097e+00],\n",
       "       [-1.12584710e-01,  1.21273132e+00,  8.93741844e-01,\n",
       "         1.92164409e+00],\n",
       "       [-9.52639852e-02, -4.62900623e-01, -6.25538262e-01,\n",
       "        -9.04709264e-01],\n",
       "       [-7.79432606e-02,  1.89836839e-01,  5.62876398e-01,\n",
       "         1.02862691e+00],\n",
       "       [-6.06225361e-02,  5.90353742e-01, -1.33453565e+00,\n",
       "        -1.13486833e+00],\n",
       "       [-4.33018115e-02,  4.42057396e-01, -1.52873340e-01,\n",
       "        -3.93756133e-01],\n",
       "       [-2.59810869e-02,  1.66579418e+00,  1.28537849e+00,\n",
       "         9.50372823e-01],\n",
       "       [-8.66036229e-03, -1.38283424e-01,  1.24486436e+00,\n",
       "         7.06404211e-01],\n",
       "       [ 8.66036229e-03,  8.79940308e-01, -1.28051680e+00,\n",
       "         8.85928284e-01],\n",
       "       [ 2.59810869e-02,  1.74402926e+00,  8.80237132e-01,\n",
       "         3.23815396e+00],\n",
       "       [ 4.33018115e-02,  1.55486384e+00, -8.88880147e-01,\n",
       "        -4.21375221e-01],\n",
       "       [ 6.06225361e-02,  4.77088029e-01, -4.09462869e-01,\n",
       "        -5.82486569e-01],\n",
       "       [ 7.79432606e-02,  1.06443498e+00,  7.45190011e-01,\n",
       "        -1.16248742e+00],\n",
       "       [ 9.52639852e-02, -1.06755854e-01,  1.56222509e+00,\n",
       "         1.30942097e+00],\n",
       "       [ 1.12584710e-01, -1.42507534e+00, -8.28108943e-01,\n",
       "        -3.93111688e-02],\n",
       "       [ 1.29905434e-01, -6.61407543e-01, -1.55061104e+00,\n",
       "        -3.38517957e-01],\n",
       "       [ 1.47226159e-01, -1.56403019e+00, -1.54385868e+00,\n",
       "        -2.28041604e-01],\n",
       "       [ 1.64546884e-01,  1.26527727e+00,  2.45515665e-01,\n",
       "        -1.15328106e+00],\n",
       "       [ 1.81867608e-01,  9.19641692e-01, -1.01717491e+00,\n",
       "         1.19434143e+00],\n",
       "       [ 1.99188333e-01,  1.10530405e+00,  9.95027184e-01,\n",
       "        -3.38517957e-01],\n",
       "       [ 2.16509057e-01,  3.34630122e-01, -5.31005278e-01,\n",
       "        -1.29597968e+00],\n",
       "       [ 2.33829782e-01,  7.30476274e-01, -1.79882765e-01,\n",
       "        -9.13915627e-01],\n",
       "       [ 2.51150506e-01, -8.03865450e-01,  1.58923451e+00,\n",
       "         1.81641536e-01],\n",
       "       [ 2.68471231e-01, -8.40063771e-01,  7.92456503e-01,\n",
       "         1.01942054e+00],\n",
       "       [ 2.85791956e-01, -9.15759131e-02, -6.05281194e-01,\n",
       "        -2.28041604e-01],\n",
       "       [ 3.03112680e-01, -8.24883830e-01, -1.51684926e+00,\n",
       "        -7.25185191e-01],\n",
       "       [ 3.20433405e-01, -2.49213762e-01,  9.20751268e-01,\n",
       "         2.23926360e+00],\n",
       "       [ 3.37754129e-01, -1.49046586e+00, -4.90491142e-01,\n",
       "        -3.79946589e-01],\n",
       "       [ 3.55074854e-01, -6.70544700e-02,  2.38763309e-01,\n",
       "         7.20213755e-01],\n",
       "       [ 3.72395579e-01, -1.49747198e+00, -1.05606848e-01,\n",
       "         9.13547372e-01],\n",
       "       [ 3.89716303e-01,  8.98623313e-01, -1.40881156e+00,\n",
       "        -6.88359740e-01],\n",
       "       [ 4.07037028e-01, -2.79573643e-01,  7.65447079e-01,\n",
       "        -8.35661544e-01],\n",
       "       [ 4.24357752e-01,  9.62846140e-01,  6.10142891e-01,\n",
       "         2.00910454e+00],\n",
       "       [ 4.41678477e-01, -6.98773552e-01, -7.74090095e-01,\n",
       "        -2.14232060e-01],\n",
       "       [ 4.58999202e-01, -1.62591764e+00,  1.05579839e+00,\n",
       "         9.22753735e-01],\n",
       "       [ 4.76319926e-01, -7.80511695e-01, -1.57086811e+00,\n",
       "        -9.82963347e-01],\n",
       "       [ 4.93640651e-01,  8.55418865e-01,  1.73778635e+00,\n",
       "        -1.25915423e+00],\n",
       "       [ 5.10961375e-01, -1.02105537e+00, -7.60585383e-01,\n",
       "         5.77515133e-01],\n",
       "       [ 5.28282100e-01, -1.70882347e+00,  1.10306488e+00,\n",
       "        -1.00597925e+00],\n",
       "       [ 5.45602824e-01,  1.37971067e+00, -1.37504978e+00,\n",
       "         5.72911952e-01],\n",
       "       [ 5.62923549e-01, -1.61891151e+00,  2.65772733e-01,\n",
       "        -1.30978922e+00],\n",
       "       [ 5.80244274e-01,  8.49580427e-01,  6.91171163e-01,\n",
       "         6.69578760e-01],\n",
       "       [ 5.97564998e-01, -1.28612050e+00,  1.03554132e+00,\n",
       "         1.61323094e+00],\n",
       "       [ 6.14885723e-01, -1.15300409e+00,  1.60273923e+00,\n",
       "        -1.01518562e+00],\n",
       "       [ 6.32206447e-01, -1.41806922e+00,  1.06255074e+00,\n",
       "        -9.78360166e-01],\n",
       "       [ 6.49527172e-01,  1.47896413e+00,  3.80562786e-01,\n",
       "         1.34164324e+00],\n",
       "       [ 6.66847897e-01, -1.21489154e+00,  1.77992105e-01,\n",
       "        -4.62803854e-01],\n",
       "       [ 6.84168621e-01,  4.42057396e-01,  1.39341619e+00,\n",
       "        -1.32820195e+00],\n",
       "       [ 7.01489346e-01, -8.59914463e-01, -4.22967582e-01,\n",
       "        -8.12645637e-01],\n",
       "       [ 7.18810070e-01,  5.44813920e-01,  8.19465927e-01,\n",
       "         2.07354907e+00],\n",
       "       [ 7.36130795e-01,  8.57754241e-01,  6.70914095e-01,\n",
       "         3.38149702e-01],\n",
       "       [ 7.53451519e-01, -4.95595880e-01, -1.18598381e+00,\n",
       "         1.77038355e-01],\n",
       "       [ 7.70772244e-01, -5.93681653e-01, -5.71519414e-01,\n",
       "         3.84181516e-01],\n",
       "       [ 7.88092969e-01, -7.87313476e-02, -1.44257334e+00,\n",
       "        -9.92169710e-01],\n",
       "       [ 8.05413693e-01,  1.08662104e+00, -1.07794612e+00,\n",
       "        -1.00597925e+00],\n",
       "       [ 8.22734418e-01,  1.12281936e+00,  1.73778635e+00,\n",
       "         6.32753309e-01],\n",
       "       [ 8.40055142e-01, -1.27327593e+00,  1.15033137e+00,\n",
       "        -8.58677450e-01],\n",
       "       [ 8.57375867e-01, -1.19504085e+00,  1.71239749e-01,\n",
       "        -4.58200672e-01],\n",
       "       [ 8.74696592e-01,  1.56070228e+00, -6.32290618e-01,\n",
       "         2.96721070e-01],\n",
       "       [ 8.92017316e-01, -3.04095087e-01, -1.00367020e+00,\n",
       "         8.35293289e-01],\n",
       "       [ 9.09338041e-01,  5.90353742e-01,  2.43084817e-03,\n",
       "        -7.52804279e-01],\n",
       "       [ 9.26658765e-01,  2.83251860e-01,  1.10981724e+00,\n",
       "         3.28943340e-01],\n",
       "       [ 9.43979490e-01,  4.75920341e-01, -1.46120984e-01,\n",
       "        -9.69153803e-01],\n",
       "       [ 9.61300215e-01, -1.66912209e+00, -7.87594807e-01,\n",
       "        -1.14407469e+00],\n",
       "       [ 9.78620939e-01, -6.20538471e-01,  1.36640677e+00,\n",
       "         9.18150553e-01],\n",
       "       [ 9.95941664e-01,  3.21989902e-02, -1.48308748e+00,\n",
       "        -2.87882962e-01],\n",
       "       [ 1.01326239e+00, -1.58037782e+00,  9.20751268e-01,\n",
       "         6.74181942e-01],\n",
       "       [ 1.03058311e+00, -1.79152496e-01, -3.28434597e-01,\n",
       "         1.86244718e-01],\n",
       "       [ 1.04790384e+00,  2.97264113e-01, -3.48691665e-01,\n",
       "         6.72064478e-03],\n",
       "       [ 1.06522456e+00, -7.16288868e-01,  8.46475352e-01,\n",
       "         8.62912377e-01],\n",
       "       [ 1.08254529e+00,  4.82926468e-01, -3.48691665e-01,\n",
       "        -2.28041604e-01],\n",
       "       [ 1.09986601e+00,  1.92172214e-01,  9.13998912e-01,\n",
       "        -1.06582061e+00],\n",
       "       [ 1.11718674e+00, -3.48467222e-01, -5.78271770e-01,\n",
       "        -1.15788424e+00],\n",
       "       [ 1.13450746e+00,  1.02123053e+00, -1.34128800e+00,\n",
       "         2.49704176e+00],\n",
       "       [ 1.15182818e+00, -1.50798117e+00,  9.68017760e-01,\n",
       "        -4.12168859e-01],\n",
       "       [ 1.16914891e+00,  6.97781017e-01, -1.21974559e+00,\n",
       "        -5.13438849e-01],\n",
       "       [ 1.18646963e+00,  7.98202165e-01,  2.26879163e-02,\n",
       "         1.24497643e+00],\n",
       "       [ 1.20379036e+00,  1.60273904e+00, -8.55118367e-01,\n",
       "        -1.11185242e+00],\n",
       "       [ 1.22111108e+00, -1.13315340e+00, -7.87594807e-01,\n",
       "        -5.59470662e-01],\n",
       "       [ 1.23843181e+00,  2.03849092e-01, -1.59625696e-01,\n",
       "         7.75451931e-01],\n",
       "       [ 1.25575253e+00, -1.48813048e+00, -2.13644545e-01,\n",
       "        -6.23915201e-01],\n",
       "       [ 1.27307326e+00,  2.49388915e-01, -1.09145083e+00,\n",
       "        -8.17248818e-01],\n",
       "       [ 1.29039398e+00,  8.79940308e-01, -1.34128800e+00,\n",
       "        -8.03439274e-01],\n",
       "       [ 1.30771471e+00,  1.51633014e+00,  1.73103399e+00,\n",
       "         5.17673775e-01],\n",
       "       [ 1.32503543e+00,  1.18353913e+00,  4.68343414e-01,\n",
       "        -4.72010216e-01],\n",
       "       [ 1.34235616e+00,  2.70407294e-01, -1.04418434e+00,\n",
       "         2.13863806e-01],\n",
       "       [ 1.35967688e+00,  1.51399477e+00, -1.41556392e+00,\n",
       "        -3.15502050e-01],\n",
       "       [ 1.37699760e+00,  2.16693657e-01, -8.95632503e-01,\n",
       "        -5.96296113e-01],\n",
       "       [ 1.39431833e+00,  1.11601758e-01, -1.39530685e+00,\n",
       "        -1.02439198e+00],\n",
       "       [ 1.41163905e+00,  8.34400486e-01, -1.20624088e+00,\n",
       "        -1.45184340e-01],\n",
       "       [ 1.42895978e+00, -1.06075676e+00, -1.18598381e+00,\n",
       "        -3.93111688e-02],\n",
       "       [ 1.44628050e+00,  1.64127273e+00,  1.33264499e+00,\n",
       "         1.89862818e+00],\n",
       "       [ 1.46360123e+00,  1.24659427e+00, -1.32616272e-01,\n",
       "        -2.55016247e-02],\n",
       "       [ 1.48092195e+00,  6.76762637e-01,  1.47444446e+00,\n",
       "        -5.04232486e-01],\n",
       "       [ 1.49824268e+00, -8.80728498e-02, -1.42906863e+00,\n",
       "        -1.82009791e-01],\n",
       "       [ 1.51556340e+00,  5.14454038e-01,  3.67058074e-01,\n",
       "        -5.68677025e-01],\n",
       "       [ 1.53288413e+00,  1.62258973e+00, -6.32290618e-01,\n",
       "        -1.23613832e+00],\n",
       "       [ 1.55020485e+00, -1.49863967e+00, -7.53833027e-01,\n",
       "        -3.29311594e-01],\n",
       "       [ 1.56752558e+00, -1.25576062e+00,  1.20435022e+00,\n",
       "        -1.13947151e+00],\n",
       "       [ 1.58484630e+00, -8.35393020e-01, -8.41613655e-01,\n",
       "        -1.13026515e+00],\n",
       "       [ 1.60216702e+00, -1.51615499e+00, -1.29402151e+00,\n",
       "         4.81492770e-02],\n",
       "       [ 1.61948775e+00,  2.30705910e-01,  1.26512143e+00,\n",
       "        -1.24074150e+00],\n",
       "       [ 1.63680847e+00,  3.10313024e-02,  8.32970639e-01,\n",
       "        -1.13026515e+00],\n",
       "       [ 1.65412920e+00, -1.27094056e+00, -1.32103093e+00,\n",
       "        -7.71217005e-01],\n",
       "       [ 1.67144992e+00, -6.17035408e-01, -1.24000266e+00,\n",
       "        -1.03359834e+00],\n",
       "       [ 1.68877065e+00,  3.49810063e-01, -9.42898996e-01,\n",
       "        -1.11185242e+00],\n",
       "       [ 1.70609137e+00,  1.59456522e+00,  1.26512143e+00,\n",
       "         1.64085003e+00],\n",
       "       [ 1.72341210e+00,  9.93206022e-01, -9.90165488e-01,\n",
       "        -1.00597925e+00]])"
      ]
     },
     "execution_count": 22,
     "metadata": {},
     "output_type": "execute_result"
    }
   ],
   "source": [
    "scale=StandardScaler()  #standardizes features by removing the mean and scaling to unit variance\n",
    "x=scale.fit_transform(x)\n",
    "x"
   ]
  },
  {
   "cell_type": "code",
   "execution_count": 23,
   "id": "a18ad006",
   "metadata": {},
   "outputs": [],
   "source": [
    "x_train,x_test,y_train,y_test = train_test_split(x,y,test_size=33,random_state=42)"
   ]
  },
  {
   "cell_type": "code",
   "execution_count": 24,
   "id": "fcf96aa8",
   "metadata": {},
   "outputs": [
    {
     "data": {
      "text/plain": [
       "(167, 4)"
      ]
     },
     "execution_count": 24,
     "metadata": {},
     "output_type": "execute_result"
    }
   ],
   "source": [
    "x_train.shape"
   ]
  },
  {
   "cell_type": "code",
   "execution_count": 25,
   "id": "f779c175",
   "metadata": {},
   "outputs": [
    {
     "data": {
      "text/plain": [
       "(167,)"
      ]
     },
     "execution_count": 25,
     "metadata": {},
     "output_type": "execute_result"
    }
   ],
   "source": [
    "y_train.shape"
   ]
  },
  {
   "cell_type": "code",
   "execution_count": 26,
   "id": "5713654f",
   "metadata": {},
   "outputs": [
    {
     "data": {
      "text/plain": [
       "(33, 4)"
      ]
     },
     "execution_count": 26,
     "metadata": {},
     "output_type": "execute_result"
    }
   ],
   "source": [
    "x_test.shape"
   ]
  },
  {
   "cell_type": "code",
   "execution_count": 27,
   "id": "e69c9d07",
   "metadata": {},
   "outputs": [
    {
     "data": {
      "text/plain": [
       "(33,)"
      ]
     },
     "execution_count": 27,
     "metadata": {},
     "output_type": "execute_result"
    }
   ],
   "source": [
    "y_test.shape"
   ]
  },
  {
   "cell_type": "code",
   "execution_count": 28,
   "id": "911c9e89",
   "metadata": {},
   "outputs": [],
   "source": [
    "lm=LinearRegression()"
   ]
  },
  {
   "cell_type": "code",
   "execution_count": 29,
   "id": "00e07836",
   "metadata": {},
   "outputs": [
    {
     "data": {
      "text/plain": [
       "LinearRegression()"
      ]
     },
     "execution_count": 29,
     "metadata": {},
     "output_type": "execute_result"
    }
   ],
   "source": [
    "lm.fit(x_train,y_train)"
   ]
  },
  {
   "cell_type": "code",
   "execution_count": 30,
   "id": "de1564c6",
   "metadata": {},
   "outputs": [
    {
     "data": {
      "text/plain": [
       "array([0.01339432, 3.84448052, 2.75386055, 0.0112222 ])"
      ]
     },
     "execution_count": 30,
     "metadata": {},
     "output_type": "execute_result"
    }
   ],
   "source": [
    "lm.coef_"
   ]
  },
  {
   "cell_type": "code",
   "execution_count": 31,
   "id": "ec0eb7e4",
   "metadata": {},
   "outputs": [
    {
     "data": {
      "text/plain": [
       "14.012877617881355"
      ]
     },
     "execution_count": 31,
     "metadata": {},
     "output_type": "execute_result"
    }
   ],
   "source": [
    "lm.intercept_"
   ]
  },
  {
   "cell_type": "code",
   "execution_count": 32,
   "id": "bcfa4c0c",
   "metadata": {},
   "outputs": [
    {
     "data": {
      "text/plain": [
       "Index(['Unnamed: 0', 'TV', 'radio', 'newspaper', 'sales'], dtype='object')"
      ]
     },
     "execution_count": 32,
     "metadata": {},
     "output_type": "execute_result"
    }
   ],
   "source": [
    "da.columns"
   ]
  },
  {
   "cell_type": "code",
   "execution_count": 33,
   "id": "c442aa2b",
   "metadata": {},
   "outputs": [
    {
     "data": {
      "text/plain": [
       "0.8935426443621624"
      ]
     },
     "execution_count": 33,
     "metadata": {},
     "output_type": "execute_result"
    }
   ],
   "source": [
    "lm.score(x_train,y_train)"
   ]
  },
  {
   "cell_type": "code",
   "execution_count": 34,
   "id": "e7f814d4",
   "metadata": {},
   "outputs": [
    {
     "name": "stdout",
     "output_type": "stream",
     "text": [
      "Predicted sales: [16.30328422 20.71954488 21.48749902 10.49390425 22.07962154 12.98061965\n",
      " 20.97286372  7.49764264 13.71033848 15.11820024  9.05200894  6.68748368\n",
      " 14.28847666  8.87238088  9.75685294 12.19729512  8.63439047 16.29290714\n",
      " 10.2380352  18.83944096 19.42299985 12.95913055 12.28726099 21.15649705\n",
      "  7.88949555  5.8456683  20.66425566 12.01758063  9.19823197  8.51374615\n",
      " 12.51293395  9.9792036  21.20572871]\n",
      "Actual sales: 95     16.9\n",
      "15     22.4\n",
      "30     21.4\n",
      "158     7.3\n",
      "128    24.7\n",
      "115    12.6\n",
      "69     22.3\n",
      "170     8.4\n",
      "174    11.5\n",
      "45     14.9\n",
      "66      9.5\n",
      "182     8.7\n",
      "165    11.9\n",
      "78      5.3\n",
      "186    10.3\n",
      "177    11.7\n",
      "56      5.5\n",
      "152    16.6\n",
      "82     11.3\n",
      "68     18.9\n",
      "124    19.7\n",
      "16     12.5\n",
      "148    10.9\n",
      "93     22.2\n",
      "65      9.3\n",
      "60      8.1\n",
      "84     21.7\n",
      "67     13.4\n",
      "125    10.6\n",
      "132     5.7\n",
      "9      10.6\n",
      "18     11.3\n",
      "55     23.7\n",
      "Name: sales, dtype: float64\n"
     ]
    }
   ],
   "source": [
    "pred=lm.predict(x_test)  #x_test will be sent for testing\n",
    "print(\"Predicted sales:\", pred)\n",
    "print(\"Actual sales:\", y_test)"
   ]
  },
  {
   "cell_type": "code",
   "execution_count": 35,
   "id": "83c00378",
   "metadata": {},
   "outputs": [
    {
     "name": "stdout",
     "output_type": "stream",
     "text": [
      "error:\n",
      "Mean Absolute Error: 1.4071766440415205\n",
      "Mean Squared Error: 2.9418914388030837\n",
      "Root Mean Squared Error: 1.7151942860221647\n"
     ]
    }
   ],
   "source": [
    "print(\"error:\")\n",
    "print(\"Mean Absolute Error:\", mean_absolute_error(y_test,pred))\n",
    "print(\"Mean Squared Error:\", mean_squared_error(y_test,pred))    # to check model accuracy\n",
    "print(\"Root Mean Squared Error:\", np.sqrt(mean_squared_error(y_test,pred)))"
   ]
  },
  {
   "cell_type": "markdown",
   "id": "85bfd62e",
   "metadata": {},
   "source": [
    "Predicting r2 score for the data"
   ]
  },
  {
   "cell_type": "code",
   "execution_count": 36,
   "id": "80789350",
   "metadata": {},
   "outputs": [
    {
     "name": "stdout",
     "output_type": "stream",
     "text": [
      "0.9099827879887722\n"
     ]
    }
   ],
   "source": [
    "from sklearn.metrics import r2_score\n",
    "print(r2_score(y_test,pred))"
   ]
  },
  {
   "cell_type": "code",
   "execution_count": 37,
   "id": "728512b6",
   "metadata": {},
   "outputs": [],
   "source": [
    "from sklearn.model_selection import cross_val_score"
   ]
  },
  {
   "cell_type": "markdown",
   "id": "9ca5c099",
   "metadata": {},
   "source": [
    "Applying Cross-Validation to the model :"
   ]
  },
  {
   "cell_type": "code",
   "execution_count": 38,
   "id": "9e2f5b88",
   "metadata": {},
   "outputs": [
    {
     "data": {
      "text/plain": [
       "array([0.80496884, 0.90678535, 0.87523087])"
      ]
     },
     "execution_count": 38,
     "metadata": {},
     "output_type": "execute_result"
    }
   ],
   "source": [
    "lm = LinearRegression()\n",
    "scores = cross_val_score(lm, x_train, y_train, scoring='r2', cv=3)\n",
    "scores  "
   ]
  },
  {
   "cell_type": "code",
   "execution_count": null,
   "id": "ccb5743d",
   "metadata": {},
   "outputs": [],
   "source": []
  },
  {
   "cell_type": "code",
   "execution_count": null,
   "id": "72c967d9",
   "metadata": {},
   "outputs": [],
   "source": []
  }
 ],
 "metadata": {
  "kernelspec": {
   "display_name": "Python 3",
   "language": "python",
   "name": "python3"
  },
  "language_info": {
   "codemirror_mode": {
    "name": "ipython",
    "version": 3
   },
   "file_extension": ".py",
   "mimetype": "text/x-python",
   "name": "python",
   "nbconvert_exporter": "python",
   "pygments_lexer": "ipython3",
   "version": "3.8.8"
  }
 },
 "nbformat": 4,
 "nbformat_minor": 5
}
